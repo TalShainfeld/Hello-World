{
  "nbformat": 4,
  "nbformat_minor": 0,
  "metadata": {
    "colab": {
      "name": "Spark_test1.ipynb",
      "provenance": [],
      "collapsed_sections": [],
      "authorship_tag": "ABX9TyNdGw0dokFNw4zqDBufLipn",
      "include_colab_link": true
    },
    "kernelspec": {
      "name": "python3",
      "display_name": "Python 3"
    },
    "language_info": {
      "name": "python"
    }
  },
  "cells": [
    {
      "cell_type": "markdown",
      "metadata": {
        "id": "view-in-github",
        "colab_type": "text"
      },
      "source": [
        "<a href=\"https://colab.research.google.com/github/TalShainfeld/Hello-World/blob/main/Spark_test1.ipynb\" target=\"_parent\"><img src=\"https://colab.research.google.com/assets/colab-badge.svg\" alt=\"Open In Colab\"/></a>"
      ]
    },
    {
      "cell_type": "code",
      "execution_count": 3,
      "metadata": {
        "colab": {
          "base_uri": "https://localhost:8080/"
        },
        "id": "Q42IBqcjHNBf",
        "outputId": "72c657f8-6d4f-4c74-e18b-822d6acc66b6"
      },
      "outputs": [
        {
          "output_type": "stream",
          "name": "stdout",
          "text": [
            "Requirement already satisfied: pyspark in /usr/local/lib/python3.7/dist-packages (3.2.1)\n",
            "Requirement already satisfied: py4j==0.10.9.3 in /usr/local/lib/python3.7/dist-packages (from pyspark) (0.10.9.3)\n"
          ]
        }
      ],
      "source": [
        "!pip3 install pyspark"
      ]
    },
    {
      "cell_type": "code",
      "source": [
        "from pyspark import SparkContext ,SparkConf"
      ],
      "metadata": {
        "id": "zQYoWNQwI1GT"
      },
      "execution_count": 8,
      "outputs": []
    },
    {
      "cell_type": "code",
      "source": [
        "#initialize Spark\n",
        "conf = SparkConf().setAppName(\"TestApp1\").setMaster(\"local[*]\")\n",
        "sc =SparkContext(conf =conf)"
      ],
      "metadata": {
        "id": "9stY2JQXLjcU"
      },
      "execution_count": null,
      "outputs": []
    },
    {
      "cell_type": "code",
      "source": [
        "print(sc)"
      ],
      "metadata": {
        "colab": {
          "base_uri": "https://localhost:8080/"
        },
        "id": "a7LWJlTZMObn",
        "outputId": "836507a9-1c76-4519-c34d-c4bb1d3af4f5"
      },
      "execution_count": 10,
      "outputs": [
        {
          "output_type": "stream",
          "name": "stdout",
          "text": [
            "<SparkContext master=local[*] appName=TestApp1>\n"
          ]
        }
      ]
    },
    {
      "cell_type": "code",
      "source": [
        "sc.defaultMinPartitions\n",
        "\n"
      ],
      "metadata": {
        "colab": {
          "base_uri": "https://localhost:8080/"
        },
        "id": "M5uLSC5mMf1v",
        "outputId": "ff6d1975-e3ad-4108-b28f-7f7600f53052"
      },
      "execution_count": 14,
      "outputs": [
        {
          "output_type": "execute_result",
          "data": {
            "text/plain": [
              "2"
            ]
          },
          "metadata": {},
          "execution_count": 14
        }
      ]
    },
    {
      "cell_type": "code",
      "source": [
        "#ganarate random data\n",
        "import random\n",
        "randomlist=random.sample(range(0,40),10)\n",
        "print(randomlist)"
      ],
      "metadata": {
        "colab": {
          "base_uri": "https://localhost:8080/"
        },
        "id": "46n2YH95ZHJz",
        "outputId": "35c473ab-3ae9-48c4-89e3-33a38e292dca"
      },
      "execution_count": 15,
      "outputs": [
        {
          "output_type": "stream",
          "name": "stdout",
          "text": [
            "[38, 13, 10, 14, 22, 25, 24, 32, 31, 39]\n"
          ]
        }
      ]
    },
    {
      "cell_type": "code",
      "source": [
        "from typing import Collection\n",
        "#creat RDD\n",
        "rdd1=sc.parallelize(randomlist,4)\n",
        "rdd1.collect()"
      ],
      "metadata": {
        "colab": {
          "base_uri": "https://localhost:8080/"
        },
        "id": "OiGjl3C0gUAy",
        "outputId": "2e93eb00-bb81-4861-cf9c-7b75d8aa8047"
      },
      "execution_count": 18,
      "outputs": [
        {
          "output_type": "execute_result",
          "data": {
            "text/plain": [
              "[38, 13, 10, 14, 22, 25, 24, 32, 31, 39]"
            ]
          },
          "metadata": {},
          "execution_count": 18
        }
      ]
    },
    {
      "cell_type": "code",
      "source": [
        "#get number of Partitions\n",
        "print(rdd1.getNumPartitions())\n",
        "print(rdd1.glom().collect())"
      ],
      "metadata": {
        "colab": {
          "base_uri": "https://localhost:8080/"
        },
        "id": "pPp7aC0So8K0",
        "outputId": "fc5c4f7d-a9e7-4f09-fa78-7c45b26094e6"
      },
      "execution_count": 21,
      "outputs": [
        {
          "output_type": "stream",
          "name": "stdout",
          "text": [
            "4\n",
            "[[38, 13], [10, 14], [22, 25], [24, 32, 31, 39]]\n"
          ]
        }
      ]
    },
    {
      "cell_type": "code",
      "source": [
        "#print last partiton [ the last one number 3]\n",
        "rdd1.glom().collect()[3]"
      ],
      "metadata": {
        "colab": {
          "base_uri": "https://localhost:8080/"
        },
        "id": "-k4kQGjTrMvt",
        "outputId": "8427d431-06d5-4c74-a2e5-94a067d48d46"
      },
      "execution_count": 23,
      "outputs": [
        {
          "output_type": "execute_result",
          "data": {
            "text/plain": [
              "[24, 32, 31, 39]"
            ]
          },
          "metadata": {},
          "execution_count": 23
        }
      ]
    },
    {
      "cell_type": "code",
      "source": [
        "#count\n",
        "rdd1.count()"
      ],
      "metadata": {
        "colab": {
          "base_uri": "https://localhost:8080/"
        },
        "id": "rG7H0I0axBni",
        "outputId": "e7ee8d38-b09f-4403-b662-c8ad4e325d22"
      },
      "execution_count": 25,
      "outputs": [
        {
          "output_type": "execute_result",
          "data": {
            "text/plain": [
              "10"
            ]
          },
          "metadata": {},
          "execution_count": 25
        }
      ]
    },
    {
      "cell_type": "code",
      "source": [
        "#print first element\n",
        "rdd1.first()\n"
      ],
      "metadata": {
        "colab": {
          "base_uri": "https://localhost:8080/"
        },
        "id": "nPdkTdl7zjjY",
        "outputId": "524fce63-e668-4df9-f4b7-b8539adb4820"
      },
      "execution_count": 28,
      "outputs": [
        {
          "output_type": "execute_result",
          "data": {
            "text/plain": [
              "38"
            ]
          },
          "metadata": {},
          "execution_count": 28
        }
      ]
    },
    {
      "cell_type": "code",
      "source": [
        "#top 2\n",
        "rdd1.top(2)"
      ],
      "metadata": {
        "colab": {
          "base_uri": "https://localhost:8080/"
        },
        "id": "tqX0eIavz7Ju",
        "outputId": "ac94aaf2-b796-4bff-f699-ffe7d74bf5ef"
      },
      "execution_count": 29,
      "outputs": [
        {
          "output_type": "execute_result",
          "data": {
            "text/plain": [
              "[39, 38]"
            ]
          },
          "metadata": {},
          "execution_count": 29
        }
      ]
    },
    {
      "cell_type": "code",
      "source": [
        "def myfunc(item):\n",
        "  return(item+1)*3"
      ],
      "metadata": {
        "id": "T8lP34XH0Nzt"
      },
      "execution_count": 31,
      "outputs": []
    },
    {
      "cell_type": "code",
      "source": [
        "#map() recreate apartitions with munipulation of the values\n",
        "rdd_map= rdd1.map(myfunc)\n",
        "print(rdd_map.collect())\n",
        "print(rdd_map.glom().collect())"
      ],
      "metadata": {
        "colab": {
          "base_uri": "https://localhost:8080/"
        },
        "id": "BPXpI6MD6hR5",
        "outputId": "8b6d5eca-c570-4717-874d-49a3cf18ac74"
      },
      "execution_count": 36,
      "outputs": [
        {
          "output_type": "stream",
          "name": "stdout",
          "text": [
            "[117, 42, 33, 45, 69, 78, 75, 99, 96, 120]\n",
            "[[117, 42], [33, 45], [69, 78], [75, 99, 96, 120]]\n"
          ]
        }
      ]
    },
    {
      "cell_type": "code",
      "source": [
        "#map\n",
        "rdd_map= rdd1.map(lambda item:(item + 1) *3)\n",
        "rdd_map.collect()\n"
      ],
      "metadata": {
        "colab": {
          "base_uri": "https://localhost:8080/"
        },
        "id": "RAP12_0S6zBT",
        "outputId": "9e64afac-1f93-437c-f08a-0b17bc16d72d"
      },
      "execution_count": 43,
      "outputs": [
        {
          "output_type": "execute_result",
          "data": {
            "text/plain": [
              "[117, 42, 33, 45, 69, 78, 75, 99, 96, 120]"
            ]
          },
          "metadata": {},
          "execution_count": 43
        }
      ]
    }
  ]
}