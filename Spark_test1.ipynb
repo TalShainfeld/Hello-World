{
  "nbformat": 4,
  "nbformat_minor": 0,
  "metadata": {
    "colab": {
      "name": "Spark_test1.ipynb",
      "provenance": [],
      "collapsed_sections": [],
      "authorship_tag": "ABX9TyNkiTNElzNZgu8ej7uogVDT",
      "include_colab_link": true
    },
    "kernelspec": {
      "name": "python3",
      "display_name": "Python 3"
    },
    "language_info": {
      "name": "python"
    }
  },
  "cells": [
    {
      "cell_type": "markdown",
      "metadata": {
        "id": "view-in-github",
        "colab_type": "text"
      },
      "source": [
        "<a href=\"https://colab.research.google.com/github/TalShainfeld/Hello-World/blob/main/Spark_test1.ipynb\" target=\"_parent\"><img src=\"https://colab.research.google.com/assets/colab-badge.svg\" alt=\"Open In Colab\"/></a>"
      ]
    },
    {
      "cell_type": "code",
      "execution_count": 7,
      "metadata": {
        "colab": {
          "base_uri": "https://localhost:8080/"
        },
        "id": "Q42IBqcjHNBf",
        "outputId": "14ec19b9-95c9-4004-c8a4-bc121ada2cba"
      },
      "outputs": [
        {
          "output_type": "stream",
          "name": "stdout",
          "text": [
            "Looking in indexes: https://pypi.org/simple, https://us-python.pkg.dev/colab-wheels/public/simple/\n",
            "Collecting pyspark\n",
            "  Downloading pyspark-3.2.1.tar.gz (281.4 MB)\n",
            "\u001b[K     |████████████████████████████████| 281.4 MB 34 kB/s \n",
            "\u001b[?25hCollecting py4j==0.10.9.3\n",
            "  Downloading py4j-0.10.9.3-py2.py3-none-any.whl (198 kB)\n",
            "\u001b[K     |████████████████████████████████| 198 kB 52.6 MB/s \n",
            "\u001b[?25hBuilding wheels for collected packages: pyspark\n",
            "  Building wheel for pyspark (setup.py) ... \u001b[?25l\u001b[?25hdone\n",
            "  Created wheel for pyspark: filename=pyspark-3.2.1-py2.py3-none-any.whl size=281853642 sha256=f679d9865d3045e550f3325a5d5934d27b5a483c6a4845260493d867b0a250df\n",
            "  Stored in directory: /root/.cache/pip/wheels/9f/f5/07/7cd8017084dce4e93e84e92efd1e1d5334db05f2e83bcef74f\n",
            "Successfully built pyspark\n",
            "Installing collected packages: py4j, pyspark\n",
            "Successfully installed py4j-0.10.9.3 pyspark-3.2.1\n"
          ]
        }
      ],
      "source": [
        "!pip3 install pyspark"
      ]
    },
    {
      "cell_type": "code",
      "source": [
        "from pyspark import SparkContext ,SparkConf"
      ],
      "metadata": {
        "id": "zQYoWNQwI1GT"
      },
      "execution_count": 8,
      "outputs": []
    },
    {
      "cell_type": "code",
      "source": [
        "#initialize Spark\n",
        "conf = SparkConf().setAppName(\"TestApp1\").setMaster(\"local[*]\")\n",
        "sc =SparkContext(conf =conf)"
      ],
      "metadata": {
        "id": "9stY2JQXLjcU"
      },
      "execution_count": 9,
      "outputs": []
    },
    {
      "cell_type": "code",
      "source": [
        "print(sc)"
      ],
      "metadata": {
        "colab": {
          "base_uri": "https://localhost:8080/"
        },
        "id": "a7LWJlTZMObn",
        "outputId": "836507a9-1c76-4519-c34d-c4bb1d3af4f5"
      },
      "execution_count": null,
      "outputs": [
        {
          "output_type": "stream",
          "name": "stdout",
          "text": [
            "<SparkContext master=local[*] appName=TestApp1>\n"
          ]
        }
      ]
    },
    {
      "cell_type": "code",
      "source": [
        "sc.defaultMinPartitions\n",
        "\n"
      ],
      "metadata": {
        "colab": {
          "base_uri": "https://localhost:8080/"
        },
        "id": "M5uLSC5mMf1v",
        "outputId": "ff6d1975-e3ad-4108-b28f-7f7600f53052"
      },
      "execution_count": null,
      "outputs": [
        {
          "output_type": "execute_result",
          "data": {
            "text/plain": [
              "2"
            ]
          },
          "metadata": {},
          "execution_count": 14
        }
      ]
    },
    {
      "cell_type": "code",
      "source": [
        "#ganarate random data\n",
        "import random\n",
        "randomlist=random.sample(range(0,40),10)\n",
        "print(randomlist)"
      ],
      "metadata": {
        "colab": {
          "base_uri": "https://localhost:8080/"
        },
        "id": "46n2YH95ZHJz",
        "outputId": "ee4b3fa7-93c2-454e-870b-94f0deb5d53c"
      },
      "execution_count": 11,
      "outputs": [
        {
          "output_type": "stream",
          "name": "stdout",
          "text": [
            "[33, 34, 15, 8, 20, 1, 14, 6, 19, 13]\n"
          ]
        }
      ]
    },
    {
      "cell_type": "code",
      "source": [
        "from typing import Collection\n",
        "#creat RDD\n",
        "rdd1=sc.parallelize(randomlist,4)\n",
        "rdd1.collect()"
      ],
      "metadata": {
        "colab": {
          "base_uri": "https://localhost:8080/"
        },
        "id": "OiGjl3C0gUAy",
        "outputId": "01621d4e-254b-487e-d36b-e3bcb7220e8b"
      },
      "execution_count": 12,
      "outputs": [
        {
          "output_type": "execute_result",
          "data": {
            "text/plain": [
              "[33, 34, 15, 8, 20, 1, 14, 6, 19, 13]"
            ]
          },
          "metadata": {},
          "execution_count": 12
        }
      ]
    },
    {
      "cell_type": "code",
      "source": [
        "#get number of Partitions\n",
        "print(rdd1.getNumPartitions())\n",
        "print(rdd1.glom().collect())"
      ],
      "metadata": {
        "colab": {
          "base_uri": "https://localhost:8080/"
        },
        "id": "pPp7aC0So8K0",
        "outputId": "fc5c4f7d-a9e7-4f09-fa78-7c45b26094e6"
      },
      "execution_count": null,
      "outputs": [
        {
          "output_type": "stream",
          "name": "stdout",
          "text": [
            "4\n",
            "[[38, 13], [10, 14], [22, 25], [24, 32, 31, 39]]\n"
          ]
        }
      ]
    },
    {
      "cell_type": "code",
      "source": [
        "#print last partiton [ the last one number 3]\n",
        "rdd1.glom().collect()[3]"
      ],
      "metadata": {
        "colab": {
          "base_uri": "https://localhost:8080/"
        },
        "id": "-k4kQGjTrMvt",
        "outputId": "8427d431-06d5-4c74-a2e5-94a067d48d46"
      },
      "execution_count": null,
      "outputs": [
        {
          "output_type": "execute_result",
          "data": {
            "text/plain": [
              "[24, 32, 31, 39]"
            ]
          },
          "metadata": {},
          "execution_count": 23
        }
      ]
    },
    {
      "cell_type": "code",
      "source": [
        "#count\n",
        "rdd1.count()"
      ],
      "metadata": {
        "colab": {
          "base_uri": "https://localhost:8080/"
        },
        "id": "rG7H0I0axBni",
        "outputId": "e7ee8d38-b09f-4403-b662-c8ad4e325d22"
      },
      "execution_count": null,
      "outputs": [
        {
          "output_type": "execute_result",
          "data": {
            "text/plain": [
              "10"
            ]
          },
          "metadata": {},
          "execution_count": 25
        }
      ]
    },
    {
      "cell_type": "code",
      "source": [
        "#print first element\n",
        "rdd1.first()\n"
      ],
      "metadata": {
        "colab": {
          "base_uri": "https://localhost:8080/"
        },
        "id": "nPdkTdl7zjjY",
        "outputId": "524fce63-e668-4df9-f4b7-b8539adb4820"
      },
      "execution_count": null,
      "outputs": [
        {
          "output_type": "execute_result",
          "data": {
            "text/plain": [
              "38"
            ]
          },
          "metadata": {},
          "execution_count": 28
        }
      ]
    },
    {
      "cell_type": "code",
      "source": [
        "#top 2\n",
        "rdd1.top(2)"
      ],
      "metadata": {
        "colab": {
          "base_uri": "https://localhost:8080/"
        },
        "id": "tqX0eIavz7Ju",
        "outputId": "ac94aaf2-b796-4bff-f699-ffe7d74bf5ef"
      },
      "execution_count": null,
      "outputs": [
        {
          "output_type": "execute_result",
          "data": {
            "text/plain": [
              "[39, 38]"
            ]
          },
          "metadata": {},
          "execution_count": 29
        }
      ]
    },
    {
      "cell_type": "code",
      "source": [
        "def myfunc(item):\n",
        "  return(item+1)*3"
      ],
      "metadata": {
        "id": "T8lP34XH0Nzt"
      },
      "execution_count": 18,
      "outputs": []
    },
    {
      "cell_type": "code",
      "source": [
        "#map() recreate apartitions with munipulation of the values\n",
        "rdd_map= rdd1.map(myfunc)\n",
        "print(rdd_map.collect())\n",
        "print(rdd_map.glom().collect())"
      ],
      "metadata": {
        "colab": {
          "base_uri": "https://localhost:8080/"
        },
        "id": "BPXpI6MD6hR5",
        "outputId": "4a9aa013-91a1-4ca3-8db2-6607bd22114f"
      },
      "execution_count": 19,
      "outputs": [
        {
          "output_type": "stream",
          "name": "stdout",
          "text": [
            "[102, 105, 48, 27, 63, 6, 45, 21, 60, 42]\n",
            "[[102, 105], [48, 27], [63, 6], [45, 21, 60, 42]]\n"
          ]
        }
      ]
    },
    {
      "cell_type": "code",
      "source": [
        "#map\n",
        "rdd_map= rdd1.map(lambda item:(item + 1) *3)\n",
        "rdd_map.collect()\n"
      ],
      "metadata": {
        "colab": {
          "base_uri": "https://localhost:8080/"
        },
        "id": "RAP12_0S6zBT",
        "outputId": "20911726-02cd-41b9-8cc9-5fff40068dbf"
      },
      "execution_count": 20,
      "outputs": [
        {
          "output_type": "execute_result",
          "data": {
            "text/plain": [
              "[102, 105, 48, 27, 63, 6, 45, 21, 60, 42]"
            ]
          },
          "metadata": {},
          "execution_count": 20
        }
      ]
    },
    {
      "cell_type": "code",
      "source": [
        "# distinct\n",
        "rdd1.distinct().collect()"
      ],
      "metadata": {
        "colab": {
          "base_uri": "https://localhost:8080/"
        },
        "id": "mf8YLCWFyLSA",
        "outputId": "6c9a4954-4a2f-4aca-cb4d-32cb8f97cfe9"
      },
      "execution_count": 25,
      "outputs": [
        {
          "output_type": "execute_result",
          "data": {
            "text/plain": [
              "[8, 20, 33, 1, 13, 34, 14, 6, 15, 19]"
            ]
          },
          "metadata": {},
          "execution_count": 25
        }
      ]
    },
    {
      "cell_type": "code",
      "source": [
        "#filter al devided by 3\n",
        "rdd_filter= rdd1.filter(lambda x: x% 3 ==0)\n",
        "print (rdd_filter.collect())\n",
        "print (rdd_filter.glom().collect())"
      ],
      "metadata": {
        "colab": {
          "base_uri": "https://localhost:8080/"
        },
        "id": "4I5rrgG89O5y",
        "outputId": "a172c62a-f8db-40b7-e90c-0dca3eea65ae"
      },
      "execution_count": 33,
      "outputs": [
        {
          "output_type": "stream",
          "name": "stdout",
          "text": [
            "[33, 15, 6]\n",
            "[[33], [15], [], [6]]\n"
          ]
        }
      ]
    },
    {
      "cell_type": "code",
      "source": [
        ""
      ],
      "metadata": {
        "id": "0G6gBWeQ-xDC"
      },
      "execution_count": null,
      "outputs": []
    }
  ]
}